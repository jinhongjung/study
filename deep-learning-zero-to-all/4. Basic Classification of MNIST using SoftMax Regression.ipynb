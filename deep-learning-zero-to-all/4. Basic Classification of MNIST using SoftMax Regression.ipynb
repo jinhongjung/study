{
 "cells": [
  {
   "cell_type": "markdown",
   "metadata": {},
   "source": [
    "## Hyper-parameter Tuning for Improving Generalized Performance"
   ]
  },
  {
   "cell_type": "markdown",
   "metadata": {},
   "source": [
    "### Data Preprocessing for Gradient Descent\n",
    "\n",
    "We preprocess the data using the following normalization (standardization):\n",
    "\n",
    "$$ x_j' = \\frac{x_j - \\mu_j}{\\sigma_{j}} $$\n",
    "\n",
    "Also, we need to look into the unit of a feature if your gradient behavior is against your expectation."
   ]
  },
  {
   "cell_type": "code",
   "execution_count": 14,
   "metadata": {
    "scrolled": true
   },
   "outputs": [
    {
     "name": "stdout",
     "output_type": "stream",
     "text": [
      "Extracting MNIST_data/train-images-idx3-ubyte.gz\n",
      "Extracting MNIST_data/train-labels-idx1-ubyte.gz\n",
      "Extracting MNIST_data/t10k-images-idx3-ubyte.gz\n",
      "Extracting MNIST_data/t10k-labels-idx1-ubyte.gz\n",
      "Epoch:  0001 cost =  1.187334335\n",
      "Epoch:  0002 cost =  0.592843584\n",
      "Epoch:  0003 cost =  0.502938267\n",
      "Epoch:  0004 cost =  0.454558649\n",
      "Epoch:  0005 cost =  0.423473037\n",
      "Epoch:  0006 cost =  0.400738826\n",
      "Epoch:  0007 cost =  0.381952957\n",
      "Epoch:  0008 cost =  0.368761120\n",
      "Epoch:  0009 cost =  0.356245184\n",
      "Epoch:  0010 cost =  0.346943913\n",
      "Epoch:  0011 cost =  0.338018738\n",
      "Epoch:  0012 cost =  0.330490313\n",
      "Epoch:  0013 cost =  0.324368779\n",
      "Epoch:  0014 cost =  0.318709040\n",
      "Epoch:  0015 cost =  0.313496173\n",
      "Accuracy:  0.9112\n"
     ]
    }
   ],
   "source": [
    "import tensorflow as tf\n",
    "from tensorflow.examples.tutorials.mnist import input_data\n",
    "\n",
    "mnist = input_data.read_data_sets(\"MNIST_data/\", one_hot=True)\n",
    "\n",
    "nb_classes = 10\n",
    "\n",
    "X = tf.placeholder(tf.float32, [None, 784])\n",
    "Y = tf.placeholder(tf.float32, [None, nb_classes])\n",
    "\n",
    "W = tf.Variable(tf.random_normal([784, nb_classes]))\n",
    "b = tf.Variable(tf.random_normal([nb_classes]))\n",
    "\n",
    "H = tf.matmul(X, W) + b\n",
    "S = tf.nn.softmax(H)\n",
    "\n",
    "loss_i = tf.nn.softmax_cross_entropy_with_logits(logits=H, labels=Y)\n",
    "loss = tf.reduce_mean(loss_i) \n",
    "\n",
    "optimizer = tf.train.GradientDescentOptimizer(learning_rate=0.5).minimize(loss)\n",
    "\n",
    "is_correct = tf.equal(tf.arg_max(S, 1), tf.arg_max(Y, 1))\n",
    "accuracy = tf.reduce_mean(tf.cast(is_correct, tf.float32))\n",
    "\n",
    "training_epochs = 15\n",
    "batch_size = 100\n",
    "\n",
    "# one epoch = one forward pass and backward pass of all training instance\n",
    "# batch size = the number of training examples in one f/b pass\n",
    "\n",
    "#with tf.Session() as sess:\n",
    "sess = tf.Session()\n",
    "sess.run(tf.global_variables_initializer())\n",
    "    \n",
    "for epoch in range(training_epochs):\n",
    "    avg_cost = 0\n",
    "    total_batch = int(mnist.train.num_examples / batch_size)\n",
    "\n",
    "    for i in range(total_batch):\n",
    "        batch_xs, batch_ys = mnist.train.next_batch(batch_size)\n",
    "        c, _ = sess.run([loss, optimizer], feed_dict={X: batch_xs, Y: batch_ys})\n",
    "        avg_cost += c / total_batch\n",
    "\n",
    "    print('Epoch: ', '%04d' % (epoch + 1), \"cost = \", '{:.9f}'.format(avg_cost))\n",
    "\n",
    "print(\"Accuracy: \", accuracy.eval(session=sess, \n",
    "                                  feed_dict={X: mnist.test.images, Y: mnist.test.labels}))"
   ]
  },
  {
   "cell_type": "markdown",
   "metadata": {},
   "source": [
    "### Sample image show and prediction"
   ]
  },
  {
   "cell_type": "code",
   "execution_count": 16,
   "metadata": {},
   "outputs": [
    {
     "name": "stdout",
     "output_type": "stream",
     "text": [
      "Label:  [1]\n",
      "Prediction: [1]\n"
     ]
    },
    {
     "data": {
      "image/png": "[encoded data removed]",
      "text/plain": [
       "<matplotlib.figure.Figure at 0x12cc715f8>"
      ]
     },
     "metadata": {},
     "output_type": "display_data"
    }
   ],
   "source": [
    "import matplotlib.pyplot as plt\n",
    "import random\n",
    "\n",
    "r = random.randint(0, mnist.test.num_examples - 1)\n",
    "print(\"Label: \", sess.run(tf.argmax(mnist.test.labels[r:r+1], 1)))\n",
    "print(\"Prediction:\", sess.run(tf.argmax(S, 1), \n",
    "                            feed_dict={X: mnist.test.images[r:r+1]}))\n",
    "\n",
    "plt.imshow(mnist.test.images[r:r+1].reshape(28, 28), cmap=\"Greys\", interpolation=\"nearest\")\n",
    "plt.show()"
   ]
  },
  {
   "cell_type": "code",
   "execution_count": null,
   "metadata": {},
   "outputs": [],
   "source": []
  }
 ],
 "metadata": {
  "kernelspec": {
   "display_name": "Python 3",
   "language": "python",
   "name": "python3"
  },
  "language_info": {
   "codemirror_mode": {
    "name": "ipython",
    "version": 3
   },
   "file_extension": ".py",
   "mimetype": "text/x-python",
   "name": "python",
   "nbconvert_exporter": "python",
   "pygments_lexer": "ipython3",
   "version": "3.5.4"
  }
 },
 "nbformat": 4,
 "nbformat_minor": 2
}
